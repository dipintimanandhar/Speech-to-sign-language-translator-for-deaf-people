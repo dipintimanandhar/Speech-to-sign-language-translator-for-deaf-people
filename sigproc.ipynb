{
 "cells": [
  {
   "cell_type": "code",
   "execution_count": 1,
   "metadata": {},
   "outputs": [],
   "source": [
    "import numpy\n",
    "import math"
   ]
  },
  {
   "cell_type": "code",
   "execution_count": 2,
   "metadata": {},
   "outputs": [],
   "source": [
    "def framesig(sig,frame_len,frame_step,winfunc=lambda x:numpy.ones((1,x))):\n",
    "#     \"\"\"Frame a signal into overlapping frames.\n",
    "\n",
    "#     :param sig: the audio signal to frame.\n",
    "#     :param frame_len: length of each frame measured in samples.\n",
    "#     :param frame_step: number of samples after the start of the previous frame that the next frame should begin.\n",
    "#     :param winfunc: the analysis window to apply to each frame. By default no window is applied.    \n",
    "#     :returns: an array of frames. Size is NUMFRAMES by frame_len.\n",
    "#     \"\"\"\n",
    "    slen = len(sig)\n",
    "    frame_len = round(frame_len)\n",
    "    frame_step = round(frame_step)\n",
    "    if slen <= frame_len: \n",
    "        numframes = 1\n",
    "    else:\n",
    "        numframes = 1 + math.ceil((1.0*slen - frame_len)/frame_step)\n",
    "    \n",
    "    padlen = (numframes-1)*frame_step + frame_len\n",
    "    \n",
    "    zeros = numpy.zeros((padlen - slen,))\n",
    "    padsignal = numpy.concatenate((sig,zeros))\n",
    "    \n",
    "    indices = numpy.tile(numpy.arange(0,frame_len),(numframes,1)) + numpy.tile(numpy.arange(0,numframes*frame_step,frame_step),(frame_len,1)).T\n",
    "    indices = numpy.array(indices,dtype=numpy.int32)\n",
    "    frames = padsignal[indices]\n",
    "    win = numpy.tile(winfunc(frame_len),(numframes,1))\n",
    "    return frames*win"
   ]
  },
  {
   "cell_type": "code",
   "execution_count": 4,
   "metadata": {},
   "outputs": [],
   "source": [
    "def deframesig(frames,siglen,frame_len,frame_step,winfunc=lambda x:numpy.ones((1,x))):\n",
    "#     \"\"\"Does overlap-add procedure to undo the action of framesig. \n",
    "\n",
    "#     :param frames: the array of frames.\n",
    "#     :param siglen: the length of the desired signal, use 0 if unknown. Output will be truncated to siglen samples.    \n",
    "#     :param frame_len: length of each frame measured in samples.\n",
    "#     :param frame_step: number of samples after the start of the previous frame that the next frame should begin.\n",
    "#     :param winfunc: the analysis window to apply to each frame. By default no window is applied.    \n",
    "#     :returns: a 1-D signal.\n",
    "#     \"\"\"\n",
    "    frame_len = round(frame_len)\n",
    "    frame_step = round(frame_step)\n",
    "    numframes = numpy.shape(frames)[0]\n",
    "    assert numpy.shape(frames)[1] == frame_len, '\"frames\" matrix is wrong size, 2nd dim is not equal to frame_len'\n",
    " \n",
    "    indices = numpy.tile(numpy.arange(0,frame_len),(numframes,1)) + numpy.tile(numpy.arange(0,numframes*frame_step,frame_step),(frame_len,1)).T\n",
    "    indices = numpy.array(indices,dtype=numpy.int32)\n",
    "    padlen = (numframes-1)*frame_step + frame_len   \n",
    "    \n",
    "    if siglen <= 0: siglen = padlen\n",
    "    \n",
    "    rec_signal = numpy.zeros((1,padlen))\n",
    "    window_correction = numpy.zeros((1,padlen))\n",
    "    win = winfunc(frame_len)\n",
    "    \n",
    "    for i in range(0,numframes):\n",
    "        window_correction[indices[i,:]] = window_correction[indices[i,:]] + win + 1e-15 #add a little bit so it is never zero\n",
    "        rec_signal[indices[i,:]] = rec_signal[indices[i,:]] + frames[i,:]\n",
    "        \n",
    "    rec_signal = rec_signal/window_correction\n",
    "    return rec_signal[0:siglen]"
   ]
  },
  {
   "cell_type": "code",
   "execution_count": 5,
   "metadata": {},
   "outputs": [],
   "source": [
    "def magspec(frames,NFFT):\n",
    "#     \"\"\"Compute the magnitude spectrum of each frame in frames. If frames is an NxD matrix, output will be NxNFFT. \n",
    "\n",
    "#     :param frames: the array of frames. Each row is a frame.\n",
    "#     :param NFFT: the FFT length to use. If NFFT > frame_len, the frames are zero-padded. \n",
    "#     :returns: If frames is an NxD matrix, output will be NxNFFT. Each row will be the magnitude spectrum of the corresponding frame.\n",
    "#     \"\"\"    \n",
    "    complex_spec = numpy.fft.rfft(frames,NFFT)\n",
    "    return numpy.absolute(complex_spec)"
   ]
  },
  {
   "cell_type": "code",
   "execution_count": 6,
   "metadata": {},
   "outputs": [],
   "source": [
    "def powspec(frames,NFFT):\n",
    "#     \"\"\"Compute the power spectrum of each frame in frames. If frames is an NxD matrix, output will be NxNFFT. \n",
    "\n",
    "#     :param frames: the array of frames. Each row is a frame.\n",
    "#     :param NFFT: the FFT length to use. If NFFT > frame_len, the frames are zero-padded. \n",
    "#     :returns: If frames is an NxD matrix, output will be NxNFFT. Each row will be the power spectrum of the corresponding frame.\n",
    "#     \"\"\"    \n",
    "    return 1.0/NFFT * numpy.square(magspec(frames,NFFT))"
   ]
  },
  {
   "cell_type": "code",
   "execution_count": 7,
   "metadata": {},
   "outputs": [],
   "source": [
    "def logpowspec(frames,NFFT,norm=1):\n",
    "#     \"\"\"Compute the log power spectrum of each frame in frames. If frames is an NxD matrix, output will be NxNFFT. \n",
    "\n",
    "#     :param frames: the array of frames. Each row is a frame.\n",
    "#     :param NFFT: the FFT length to use. If NFFT > frame_len, the frames are zero-padded. \n",
    "#     :param norm: If norm=1, the log power spectrum is normalised so that the max value (across all frames) is 1.\n",
    "#     :returns: If frames is an NxD matrix, output will be NxNFFT. Each row will be the log power spectrum of the corresponding frame.\n",
    "#     \"\"\"    \n",
    "    ps = powspec(frames,NFFT);\n",
    "    ps[ps<=1e-30] = 1e-30\n",
    "    lps = 10*numpy.log10(ps)\n",
    "    if norm:\n",
    "        return lps - numpy.max(lps)\n",
    "    else:\n",
    "        return lps"
   ]
  },
  {
   "cell_type": "code",
   "execution_count": 8,
   "metadata": {},
   "outputs": [],
   "source": [
    "def preemphasis(signal,coeff=0.95):\n",
    "#     \"\"\"perform preemphasis on the input signal.\n",
    "    \n",
    "#     :param signal: The signal to filter.\n",
    "#     :param coeff: The preemphasis coefficient. 0 is no filter, default is 0.95.\n",
    "#     :returns: the filtered signal.\n",
    "#     \"\"\"    \n",
    "    return numpy.append(signal[0],signal[1:]-coeff*signal[:-1])\n"
   ]
  },
  {
   "cell_type": "code",
   "execution_count": null,
   "metadata": {},
   "outputs": [],
   "source": []
  }
 ],
 "metadata": {
  "kernelspec": {
   "display_name": "Python 3",
   "language": "python",
   "name": "python3"
  },
  "language_info": {
   "codemirror_mode": {
    "name": "ipython",
    "version": 3
   },
   "file_extension": ".py",
   "mimetype": "text/x-python",
   "name": "python",
   "nbconvert_exporter": "python",
   "pygments_lexer": "ipython3",
   "version": "3.7.3"
  }
 },
 "nbformat": 4,
 "nbformat_minor": 2
}
