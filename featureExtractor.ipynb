{
 "cells": [
  {
   "cell_type": "code",
   "execution_count": 31,
   "metadata": {},
   "outputs": [
    {
     "name": "stdout",
     "output_type": "stream",
     "text": [
      "Reading: a-1.wav\n"
     ]
    },
    {
     "ename": "TypeError",
     "evalue": "'float' object cannot be interpreted as an integer",
     "output_type": "error",
     "traceback": [
      "\u001b[1;31m---------------------------------------------------------------------------\u001b[0m",
      "\u001b[1;31mTypeError\u001b[0m                                 Traceback (most recent call last)",
      "\u001b[1;32m<ipython-input-31-0d46b14d39ad>\u001b[0m in \u001b[0;36m<module>\u001b[1;34m\u001b[0m\n\u001b[0;32m     15\u001b[0m                 \u001b[0mprint\u001b[0m \u001b[1;33m(\u001b[0m\u001b[1;34m\"Reading: \"\u001b[0m \u001b[1;33m+\u001b[0m \u001b[0mwords\u001b[0m\u001b[1;33m[\u001b[0m\u001b[0mx\u001b[0m\u001b[1;33m]\u001b[0m \u001b[1;33m+\u001b[0m \u001b[1;34m\"-\"\u001b[0m \u001b[1;33m+\u001b[0m \u001b[0mstr\u001b[0m\u001b[1;33m(\u001b[0m\u001b[0mi\u001b[0m\u001b[1;33m+\u001b[0m\u001b[1;36m1\u001b[0m\u001b[1;33m)\u001b[0m \u001b[1;33m+\u001b[0m \u001b[1;34m\".wav\"\u001b[0m\u001b[1;33m)\u001b[0m\u001b[1;33m\u001b[0m\u001b[1;33m\u001b[0m\u001b[0m\n\u001b[0;32m     16\u001b[0m                 \u001b[0mduration\u001b[0m \u001b[1;33m=\u001b[0m\u001b[0mlen\u001b[0m\u001b[1;33m(\u001b[0m\u001b[0msig\u001b[0m\u001b[1;33m)\u001b[0m\u001b[1;33m/\u001b[0m\u001b[0mrate\u001b[0m\u001b[1;33m\u001b[0m\u001b[1;33m\u001b[0m\u001b[0m\n\u001b[1;32m---> 17\u001b[1;33m                 \u001b[0mmfcc_feat\u001b[0m \u001b[1;33m=\u001b[0m\u001b[0mmfcc\u001b[0m\u001b[1;33m(\u001b[0m\u001b[0msig\u001b[0m\u001b[1;33m,\u001b[0m\u001b[0mrate\u001b[0m\u001b[1;33m)\u001b[0m\u001b[1;33m\u001b[0m\u001b[1;33m\u001b[0m\u001b[0m\n\u001b[0m\u001b[0;32m     18\u001b[0m \u001b[1;33m\u001b[0m\u001b[0m\n\u001b[0;32m     19\u001b[0m \u001b[1;33m\u001b[0m\u001b[0m\n",
      "\u001b[1;32m~\\majorproject\\features.py\u001b[0m in \u001b[0;36mmfcc\u001b[1;34m(signal, samplerate, winlen, winstep, numcep, nfilt, nfft, lowfreq, highfreq, preemph, ceplifter, appendEnergy)\u001b[0m\n\u001b[0;32m     32\u001b[0m \u001b[1;31m#     :returns: A numpy array of size (NUMFRAMES by numcep) containing features. Each row holds 1 feature vector.\u001b[0m\u001b[1;33m\u001b[0m\u001b[1;33m\u001b[0m\u001b[1;33m\u001b[0m\u001b[0m\n\u001b[0;32m     33\u001b[0m \u001b[1;31m#     \"\"\"\u001b[0m\u001b[1;33m\u001b[0m\u001b[1;33m\u001b[0m\u001b[1;33m\u001b[0m\u001b[0m\n\u001b[1;32m---> 34\u001b[1;33m     \u001b[0mfeat\u001b[0m\u001b[1;33m,\u001b[0m\u001b[0menergy\u001b[0m \u001b[1;33m=\u001b[0m \u001b[0mfbank\u001b[0m\u001b[1;33m(\u001b[0m\u001b[0msignal\u001b[0m\u001b[1;33m,\u001b[0m\u001b[0msamplerate\u001b[0m\u001b[1;33m,\u001b[0m\u001b[0mwinlen\u001b[0m\u001b[1;33m,\u001b[0m\u001b[0mwinstep\u001b[0m\u001b[1;33m,\u001b[0m\u001b[0mnfilt\u001b[0m\u001b[1;33m,\u001b[0m\u001b[0mnfft\u001b[0m\u001b[1;33m,\u001b[0m\u001b[0mlowfreq\u001b[0m\u001b[1;33m,\u001b[0m\u001b[0mhighfreq\u001b[0m\u001b[1;33m,\u001b[0m\u001b[0mpreemph\u001b[0m\u001b[1;33m)\u001b[0m\u001b[1;33m\u001b[0m\u001b[1;33m\u001b[0m\u001b[0m\n\u001b[0m\u001b[0;32m     35\u001b[0m     \u001b[0mfeat\u001b[0m \u001b[1;33m=\u001b[0m \u001b[0mnumpy\u001b[0m\u001b[1;33m.\u001b[0m\u001b[0mlog\u001b[0m\u001b[1;33m(\u001b[0m\u001b[0mfeat\u001b[0m\u001b[1;33m)\u001b[0m\u001b[1;33m\u001b[0m\u001b[1;33m\u001b[0m\u001b[0m\n\u001b[0;32m     36\u001b[0m     \u001b[0mfeat\u001b[0m \u001b[1;33m=\u001b[0m \u001b[0mdct\u001b[0m\u001b[1;33m(\u001b[0m\u001b[0mfeat\u001b[0m\u001b[1;33m,\u001b[0m \u001b[0mtype\u001b[0m\u001b[1;33m=\u001b[0m\u001b[1;36m2\u001b[0m\u001b[1;33m,\u001b[0m \u001b[0maxis\u001b[0m\u001b[1;33m=\u001b[0m\u001b[1;36m1\u001b[0m\u001b[1;33m,\u001b[0m \u001b[0mnorm\u001b[0m\u001b[1;33m=\u001b[0m\u001b[1;34m'ortho'\u001b[0m\u001b[1;33m)\u001b[0m\u001b[1;33m[\u001b[0m\u001b[1;33m:\u001b[0m\u001b[1;33m,\u001b[0m\u001b[1;33m:\u001b[0m\u001b[0mnumcep\u001b[0m\u001b[1;33m]\u001b[0m\u001b[1;33m\u001b[0m\u001b[1;33m\u001b[0m\u001b[0m\n",
      "\u001b[1;32m~\\majorproject\\features.py\u001b[0m in \u001b[0;36mfbank\u001b[1;34m(signal, samplerate, winlen, winstep, nfilt, nfft, lowfreq, highfreq, preemph)\u001b[0m\n\u001b[0;32m     65\u001b[0m     \u001b[0menergy\u001b[0m \u001b[1;33m=\u001b[0m \u001b[0mnumpy\u001b[0m\u001b[1;33m.\u001b[0m\u001b[0msum\u001b[0m\u001b[1;33m(\u001b[0m\u001b[0mpspec\u001b[0m\u001b[1;33m,\u001b[0m\u001b[1;36m1\u001b[0m\u001b[1;33m)\u001b[0m \u001b[1;31m# this stores the total energy in each frame\u001b[0m\u001b[1;33m\u001b[0m\u001b[1;33m\u001b[0m\u001b[0m\n\u001b[0;32m     66\u001b[0m \u001b[1;33m\u001b[0m\u001b[0m\n\u001b[1;32m---> 67\u001b[1;33m     \u001b[0mfb\u001b[0m \u001b[1;33m=\u001b[0m \u001b[0mget_filterbanks\u001b[0m\u001b[1;33m(\u001b[0m\u001b[0mnfilt\u001b[0m\u001b[1;33m,\u001b[0m\u001b[0mnfft\u001b[0m\u001b[1;33m,\u001b[0m\u001b[0msamplerate\u001b[0m\u001b[1;33m)\u001b[0m\u001b[1;33m\u001b[0m\u001b[1;33m\u001b[0m\u001b[0m\n\u001b[0m\u001b[0;32m     68\u001b[0m     \u001b[0mfeat\u001b[0m \u001b[1;33m=\u001b[0m \u001b[0mnumpy\u001b[0m\u001b[1;33m.\u001b[0m\u001b[0mdot\u001b[0m\u001b[1;33m(\u001b[0m\u001b[0mpspec\u001b[0m\u001b[1;33m,\u001b[0m\u001b[0mfb\u001b[0m\u001b[1;33m.\u001b[0m\u001b[0mT\u001b[0m\u001b[1;33m)\u001b[0m \u001b[1;31m# compute the filterbank energies\u001b[0m\u001b[1;33m\u001b[0m\u001b[1;33m\u001b[0m\u001b[0m\n\u001b[0;32m     69\u001b[0m     \u001b[1;32mreturn\u001b[0m \u001b[0mfeat\u001b[0m\u001b[1;33m,\u001b[0m\u001b[0menergy\u001b[0m\u001b[1;33m\u001b[0m\u001b[1;33m\u001b[0m\u001b[0m\n",
      "\u001b[1;32m~\\majorproject\\features.py\u001b[0m in \u001b[0;36mget_filterbanks\u001b[1;34m(nfilt, nfft, samplerate, lowfreq, highfreq)\u001b[0m\n\u001b[0;32m    158\u001b[0m     \u001b[0mbin\u001b[0m \u001b[1;33m=\u001b[0m \u001b[0mnumpy\u001b[0m\u001b[1;33m.\u001b[0m\u001b[0mfloor\u001b[0m\u001b[1;33m(\u001b[0m\u001b[1;33m(\u001b[0m\u001b[0mnfft\u001b[0m\u001b[1;33m+\u001b[0m\u001b[1;36m1\u001b[0m\u001b[1;33m)\u001b[0m\u001b[1;33m*\u001b[0m\u001b[0mmel2hz\u001b[0m\u001b[1;33m(\u001b[0m\u001b[0mmelpoints\u001b[0m\u001b[1;33m)\u001b[0m\u001b[1;33m/\u001b[0m\u001b[0msamplerate\u001b[0m\u001b[1;33m)\u001b[0m\u001b[1;33m\u001b[0m\u001b[1;33m\u001b[0m\u001b[0m\n\u001b[0;32m    159\u001b[0m \u001b[1;33m\u001b[0m\u001b[0m\n\u001b[1;32m--> 160\u001b[1;33m     \u001b[0mfbank\u001b[0m \u001b[1;33m=\u001b[0m \u001b[0mnumpy\u001b[0m\u001b[1;33m.\u001b[0m\u001b[0mzeros\u001b[0m\u001b[1;33m(\u001b[0m\u001b[1;33m[\u001b[0m\u001b[0mnfilt\u001b[0m\u001b[1;33m,\u001b[0m\u001b[0mnfft\u001b[0m\u001b[1;33m/\u001b[0m\u001b[1;36m2\u001b[0m\u001b[1;33m]\u001b[0m\u001b[1;33m)\u001b[0m\u001b[1;33m\u001b[0m\u001b[1;33m\u001b[0m\u001b[0m\n\u001b[0m\u001b[0;32m    161\u001b[0m     \u001b[1;32mfor\u001b[0m \u001b[0mj\u001b[0m \u001b[1;32min\u001b[0m \u001b[0mxrange\u001b[0m\u001b[1;33m(\u001b[0m\u001b[1;36m0\u001b[0m\u001b[1;33m,\u001b[0m\u001b[0mnfilt\u001b[0m\u001b[1;33m)\u001b[0m\u001b[1;33m:\u001b[0m\u001b[1;33m\u001b[0m\u001b[1;33m\u001b[0m\u001b[0m\n\u001b[0;32m    162\u001b[0m         \u001b[1;32mfor\u001b[0m \u001b[0mi\u001b[0m \u001b[1;32min\u001b[0m \u001b[0mxrange\u001b[0m\u001b[1;33m(\u001b[0m\u001b[0mint\u001b[0m\u001b[1;33m(\u001b[0m\u001b[0mbin\u001b[0m\u001b[1;33m[\u001b[0m\u001b[0mj\u001b[0m\u001b[1;33m]\u001b[0m\u001b[1;33m)\u001b[0m\u001b[1;33m,\u001b[0m\u001b[0mint\u001b[0m\u001b[1;33m(\u001b[0m\u001b[0mbin\u001b[0m\u001b[1;33m[\u001b[0m\u001b[0mj\u001b[0m\u001b[1;33m+\u001b[0m\u001b[1;36m1\u001b[0m\u001b[1;33m]\u001b[0m\u001b[1;33m)\u001b[0m\u001b[1;33m)\u001b[0m\u001b[1;33m:\u001b[0m\u001b[1;33m\u001b[0m\u001b[1;33m\u001b[0m\u001b[0m\n",
      "\u001b[1;31mTypeError\u001b[0m: 'float' object cannot be interpreted as an integer"
     ]
    }
   ],
   "source": [
    "from __future__ import division\n",
    "from features import mfcc\n",
    "from operator import add\n",
    "import scipy.io.wavfile as wav\n",
    "import numpy as np\n",
    "\n",
    "words = ['a']\n",
    "\n",
    "\n",
    "for x in range(len(words)):\n",
    "    fileString = words[x]+\"_mfcc\"\n",
    "    data = []\n",
    "    for i in range(10):\n",
    "                (rate,sig) = wav.read(\"training_sets/\"+ words[x] + \"-\" + str(1) + \".wav\")\n",
    "                print (\"Reading: \" + words[x] + \"-\" + str(i+1) + \".wav\")\n",
    "                duration =len(sig)/rate\n",
    "                mfcc_feat =mfcc(sig,rate)\n",
    "\n",
    "                \n",
    "\n",
    "    s = mfcc_feat[:20]\n",
    "    st = []\n",
    "    for elem in s:\n",
    "            st.extend(elem)\n",
    "\n",
    "            st //= np.max(np.abs(st),axis=0)\n",
    "            data.append(st)\n",
    "            print (st)\n",
    "\n",
    "            with open(\"mfccData/\" + fileString+ \".npy\", 'w') as outfile:\n",
    "                np.save(outfile,data)\n"
   ]
  },
  {
   "cell_type": "code",
   "execution_count": 28,
   "metadata": {},
   "outputs": [
    {
     "data": {
      "text/plain": [
       "array([[  0,   0],\n",
       "       [ -1,   0],\n",
       "       [  0,   0],\n",
       "       ...,\n",
       "       [-27, -26],\n",
       "       [  4,   4],\n",
       "       [  2,   2]], dtype=int16)"
      ]
     },
     "execution_count": 28,
     "metadata": {},
     "output_type": "execute_result"
    }
   ],
   "source": [
    "sig"
   ]
  },
  {
   "cell_type": "code",
   "execution_count": 20,
   "metadata": {},
   "outputs": [
    {
     "data": {
      "text/plain": [
       "44100"
      ]
     },
     "execution_count": 20,
     "metadata": {},
     "output_type": "execute_result"
    }
   ],
   "source": [
    "rate"
   ]
  },
  {
   "cell_type": "code",
   "execution_count": 18,
   "metadata": {},
   "outputs": [
    {
     "data": {
      "text/plain": [
       "array([53, 57, 41, ..., -2, 22, 30], dtype=int16)"
      ]
     },
     "execution_count": 18,
     "metadata": {},
     "output_type": "execute_result"
    }
   ],
   "source": [
    "sig"
   ]
  },
  {
   "cell_type": "code",
   "execution_count": 19,
   "metadata": {},
   "outputs": [
    {
     "data": {
      "text/plain": [
       "31232"
      ]
     },
     "execution_count": 19,
     "metadata": {},
     "output_type": "execute_result"
    }
   ],
   "source": [
    "len(sig)"
   ]
  },
  {
   "cell_type": "code",
   "execution_count": 38,
   "metadata": {},
   "outputs": [
    {
     "data": {
      "text/plain": [
       "44100"
      ]
     },
     "execution_count": 38,
     "metadata": {},
     "output_type": "execute_result"
    }
   ],
   "source": [
    "rate"
   ]
  },
  {
   "cell_type": "code",
   "execution_count": 4,
   "metadata": {},
   "outputs": [],
   "source": [
    "def mfcc(signal,samplerate=16000,winlen=0.025,winstep=0.01,numcep=13,\n",
    "          nfilt=26,nfft=512,lowfreq=0,highfreq=None,preemph=0.97,ceplifter=22,appendEnergy=True):\n",
    "#     \"\"\"Compute MFCC features from an audio signal.\n",
    "\n",
    "#     :param signal: the audio signal from which to compute features. Should be an N*1 array\n",
    "#     :param samplerate: the samplerate of the signal we are working with.\n",
    "#     :param winlen: the length of the analysis window in seconds. Default is 0.025s (25 milliseconds)    \n",
    "#     :param winstep: the step between successive windows in seconds. Default is 0.01s (10 milliseconds)    \n",
    "#     :param numcep: the number of cepstrum to return, default 13    \n",
    "#     :param nfilt: the number of filters in the filterbank, default 20.\n",
    "#     :param nfft: the FFT size. Default is 512.\n",
    "#     :param lowfreq: lowest band edge of mel filters. In Hz, default is 0.\n",
    "#     :param highfreq: highest band edge of mel filters. In Hz, default is samplerate/2\n",
    "#     :param preemph: apply preemphasis filter with preemph as coefficient. 0 is no filter. Default is 0.97. \n",
    "#     :param ceplifter: apply a lifter to final cepstral coefficients. 0 is no lifter. Default is 22. \n",
    "#     :param appendEnergy: if this is true, the zeroth cepstral coefficient is replaced with the log of the total frame energy.\n",
    "#     :returns: A numpy array of size (NUMFRAMES by numcep) containing features. Each row holds 1 feature vector.\n",
    "#     \"\"\"            \n",
    "    feat,energy = fbank(signal,samplerate,winlen,winstep,nfilt,nfft,lowfreq,highfreq,preemph)\n",
    "    feat = numpy.log(feat)\n",
    "    feat = dct(feat, type=2, axis=1, norm='ortho')[:,:numcep]\n",
    "    feat = lifter(feat,ceplifter)\n",
    "    if appendEnergy: feat[:,0] = numpy.log(energy) # replace first cepstral coefficient with log of frame energy\n",
    "    return feat"
   ]
  },
  {
   "cell_type": "code",
   "execution_count": 5,
   "metadata": {},
   "outputs": [],
   "source": [
    "def fbank(signal,samplerate=16000,winlen=0.025,winstep=0.01,\n",
    "          nfilt=26,nfft=512,lowfreq=0,highfreq=None,preemph=0.97):\n",
    "#     \"\"\"Compute Mel-filterbank energy features from an audio signal.\n",
    "\n",
    "#     :param signal: the audio signal from which to compute features. Should be an N*1 array\n",
    "#     :param samplerate: the samplerate of the signal we are working with.\n",
    "#     :param winlen: the length of the analysis window in seconds. Default is 0.025s (25 milliseconds)    \n",
    "#     :param winstep: the step between seccessive windows in seconds. Default is 0.01s (10 milliseconds)    \n",
    "#     :param nfilt: the number of filters in the filterbank, default 20.\n",
    "#     :param nfft: the FFT size. Default is 512.\n",
    "#     :param lowfreq: lowest band edge of mel filters. In Hz, default is 0.\n",
    "#     :param highfreq: highest band edge of mel filters. In Hz, default is samplerate/2\n",
    "#     :param preemph: apply preemphasis filter with preemph as coefficient. 0 is no filter. Default is 0.97. \n",
    "#     :returns: 2 values. The first is a numpy array of size (NUMFRAMES by nfilt) containing features. Each row holds 1 feature vector. The\n",
    "#         second return value is the energy in each frame (total energy, unwindowed)\n",
    "#     \"\"\"          \n",
    "    highfreq= highfreq or samplerate/2\n",
    "    signal = sigproc.preemphasis(signal,preemph)\n",
    "    frames = sigproc.framesig(signal, winlen*samplerate, winstep*samplerate)\n",
    "    pspec = sigproc.powspec(frames,nfft)\n",
    "    energy = numpy.sum(pspec,1) # this stores the total energy in each frame\n",
    "    \n",
    "    fb = get_filterbanks(nfilt,nfft,samplerate)\n",
    "    feat = numpy.dot(pspec,fb.T) # compute the filterbank energies\n",
    "    return feat,energy"
   ]
  },
  {
   "cell_type": "code",
   "execution_count": null,
   "metadata": {},
   "outputs": [],
   "source": []
  }
 ],
 "metadata": {
  "kernelspec": {
   "display_name": "Python 3",
   "language": "python",
   "name": "python3"
  },
  "language_info": {
   "codemirror_mode": {
    "name": "ipython",
    "version": 3
   },
   "file_extension": ".py",
   "mimetype": "text/x-python",
   "name": "python",
   "nbconvert_exporter": "python",
   "pygments_lexer": "ipython3",
   "version": "3.7.3"
  }
 },
 "nbformat": 4,
 "nbformat_minor": 2
}
